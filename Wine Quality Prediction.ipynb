{
 "cells": [
  {
   "cell_type": "code",
   "execution_count": 1,
   "id": "911e6ef5",
   "metadata": {},
   "outputs": [],
   "source": [
    "import numpy as np\n",
    "import pandas as pd\n",
    "import matplotlib.pyplot as plt\n",
    "import seaborn as sb\n",
    " \n",
    "from sklearn.model_selection import train_test_split\n",
    "from sklearn.preprocessing import MinMaxScaler\n",
    "from sklearn import metrics\n",
    "from sklearn.svm import SVC\n",
    "from xgboost import XGBClassifier\n",
    "from sklearn.linear_model import LogisticRegression\n",
    " \n",
    "import warnings\n",
    "warnings.filterwarnings('ignore')"
   ]
  },
  {
   "cell_type": "code",
   "execution_count": 2,
   "id": "86672c83",
   "metadata": {},
   "outputs": [
    {
     "name": "stdout",
     "output_type": "stream",
     "text": [
      "   fixed acidity  volatile acidity  citric acid  residual sugar  chlorides  \\\n",
      "0            7.4              0.70         0.00             1.9      0.076   \n",
      "1            7.8              0.88         0.00             2.6      0.098   \n",
      "2            7.8              0.76         0.04             2.3      0.092   \n",
      "3           11.2              0.28         0.56             1.9      0.075   \n",
      "4            7.4              0.70         0.00             1.9      0.076   \n",
      "\n",
      "   free sulfur dioxide  total sulfur dioxide  density    pH  sulphates  \\\n",
      "0                 11.0                  34.0   0.9978  3.51       0.56   \n",
      "1                 25.0                  67.0   0.9968  3.20       0.68   \n",
      "2                 15.0                  54.0   0.9970  3.26       0.65   \n",
      "3                 17.0                  60.0   0.9980  3.16       0.58   \n",
      "4                 11.0                  34.0   0.9978  3.51       0.56   \n",
      "\n",
      "   alcohol  quality  Id  \n",
      "0      9.4        5   0  \n",
      "1      9.8        5   1  \n",
      "2      9.8        5   2  \n",
      "3      9.8        6   3  \n",
      "4      9.4        5   4  \n"
     ]
    }
   ],
   "source": [
    "df = pd.read_csv('WineQT.csv')\n",
    "print(df.head())"
   ]
  },
  {
   "cell_type": "code",
   "execution_count": 3,
   "id": "d6db1345",
   "metadata": {},
   "outputs": [
    {
     "name": "stdout",
     "output_type": "stream",
     "text": [
      "<class 'pandas.core.frame.DataFrame'>\n",
      "RangeIndex: 1143 entries, 0 to 1142\n",
      "Data columns (total 13 columns):\n",
      " #   Column                Non-Null Count  Dtype  \n",
      "---  ------                --------------  -----  \n",
      " 0   fixed acidity         1143 non-null   float64\n",
      " 1   volatile acidity      1143 non-null   float64\n",
      " 2   citric acid           1143 non-null   float64\n",
      " 3   residual sugar        1143 non-null   float64\n",
      " 4   chlorides             1143 non-null   float64\n",
      " 5   free sulfur dioxide   1143 non-null   float64\n",
      " 6   total sulfur dioxide  1143 non-null   float64\n",
      " 7   density               1143 non-null   float64\n",
      " 8   pH                    1143 non-null   float64\n",
      " 9   sulphates             1143 non-null   float64\n",
      " 10  alcohol               1143 non-null   float64\n",
      " 11  quality               1143 non-null   int64  \n",
      " 12  Id                    1143 non-null   int64  \n",
      "dtypes: float64(11), int64(2)\n",
      "memory usage: 116.2 KB\n"
     ]
    }
   ],
   "source": [
    "df.info()"
   ]
  },
  {
   "cell_type": "code",
   "execution_count": 4,
   "id": "4f619d05",
   "metadata": {},
   "outputs": [
    {
     "data": {
      "text/html": [
       "<div>\n",
       "<style scoped>\n",
       "    .dataframe tbody tr th:only-of-type {\n",
       "        vertical-align: middle;\n",
       "    }\n",
       "\n",
       "    .dataframe tbody tr th {\n",
       "        vertical-align: top;\n",
       "    }\n",
       "\n",
       "    .dataframe thead th {\n",
       "        text-align: right;\n",
       "    }\n",
       "</style>\n",
       "<table border=\"1\" class=\"dataframe\">\n",
       "  <thead>\n",
       "    <tr style=\"text-align: right;\">\n",
       "      <th></th>\n",
       "      <th>count</th>\n",
       "      <th>mean</th>\n",
       "      <th>std</th>\n",
       "      <th>min</th>\n",
       "      <th>25%</th>\n",
       "      <th>50%</th>\n",
       "      <th>75%</th>\n",
       "      <th>max</th>\n",
       "    </tr>\n",
       "  </thead>\n",
       "  <tbody>\n",
       "    <tr>\n",
       "      <th>fixed acidity</th>\n",
       "      <td>1143.0</td>\n",
       "      <td>8.311111</td>\n",
       "      <td>1.747595</td>\n",
       "      <td>4.60000</td>\n",
       "      <td>7.10000</td>\n",
       "      <td>7.90000</td>\n",
       "      <td>9.100000</td>\n",
       "      <td>15.90000</td>\n",
       "    </tr>\n",
       "    <tr>\n",
       "      <th>volatile acidity</th>\n",
       "      <td>1143.0</td>\n",
       "      <td>0.531339</td>\n",
       "      <td>0.179633</td>\n",
       "      <td>0.12000</td>\n",
       "      <td>0.39250</td>\n",
       "      <td>0.52000</td>\n",
       "      <td>0.640000</td>\n",
       "      <td>1.58000</td>\n",
       "    </tr>\n",
       "    <tr>\n",
       "      <th>citric acid</th>\n",
       "      <td>1143.0</td>\n",
       "      <td>0.268364</td>\n",
       "      <td>0.196686</td>\n",
       "      <td>0.00000</td>\n",
       "      <td>0.09000</td>\n",
       "      <td>0.25000</td>\n",
       "      <td>0.420000</td>\n",
       "      <td>1.00000</td>\n",
       "    </tr>\n",
       "    <tr>\n",
       "      <th>residual sugar</th>\n",
       "      <td>1143.0</td>\n",
       "      <td>2.532152</td>\n",
       "      <td>1.355917</td>\n",
       "      <td>0.90000</td>\n",
       "      <td>1.90000</td>\n",
       "      <td>2.20000</td>\n",
       "      <td>2.600000</td>\n",
       "      <td>15.50000</td>\n",
       "    </tr>\n",
       "    <tr>\n",
       "      <th>chlorides</th>\n",
       "      <td>1143.0</td>\n",
       "      <td>0.086933</td>\n",
       "      <td>0.047267</td>\n",
       "      <td>0.01200</td>\n",
       "      <td>0.07000</td>\n",
       "      <td>0.07900</td>\n",
       "      <td>0.090000</td>\n",
       "      <td>0.61100</td>\n",
       "    </tr>\n",
       "    <tr>\n",
       "      <th>free sulfur dioxide</th>\n",
       "      <td>1143.0</td>\n",
       "      <td>15.615486</td>\n",
       "      <td>10.250486</td>\n",
       "      <td>1.00000</td>\n",
       "      <td>7.00000</td>\n",
       "      <td>13.00000</td>\n",
       "      <td>21.000000</td>\n",
       "      <td>68.00000</td>\n",
       "    </tr>\n",
       "    <tr>\n",
       "      <th>total sulfur dioxide</th>\n",
       "      <td>1143.0</td>\n",
       "      <td>45.914698</td>\n",
       "      <td>32.782130</td>\n",
       "      <td>6.00000</td>\n",
       "      <td>21.00000</td>\n",
       "      <td>37.00000</td>\n",
       "      <td>61.000000</td>\n",
       "      <td>289.00000</td>\n",
       "    </tr>\n",
       "    <tr>\n",
       "      <th>density</th>\n",
       "      <td>1143.0</td>\n",
       "      <td>0.996730</td>\n",
       "      <td>0.001925</td>\n",
       "      <td>0.99007</td>\n",
       "      <td>0.99557</td>\n",
       "      <td>0.99668</td>\n",
       "      <td>0.997845</td>\n",
       "      <td>1.00369</td>\n",
       "    </tr>\n",
       "    <tr>\n",
       "      <th>pH</th>\n",
       "      <td>1143.0</td>\n",
       "      <td>3.311015</td>\n",
       "      <td>0.156664</td>\n",
       "      <td>2.74000</td>\n",
       "      <td>3.20500</td>\n",
       "      <td>3.31000</td>\n",
       "      <td>3.400000</td>\n",
       "      <td>4.01000</td>\n",
       "    </tr>\n",
       "    <tr>\n",
       "      <th>sulphates</th>\n",
       "      <td>1143.0</td>\n",
       "      <td>0.657708</td>\n",
       "      <td>0.170399</td>\n",
       "      <td>0.33000</td>\n",
       "      <td>0.55000</td>\n",
       "      <td>0.62000</td>\n",
       "      <td>0.730000</td>\n",
       "      <td>2.00000</td>\n",
       "    </tr>\n",
       "    <tr>\n",
       "      <th>alcohol</th>\n",
       "      <td>1143.0</td>\n",
       "      <td>10.442111</td>\n",
       "      <td>1.082196</td>\n",
       "      <td>8.40000</td>\n",
       "      <td>9.50000</td>\n",
       "      <td>10.20000</td>\n",
       "      <td>11.100000</td>\n",
       "      <td>14.90000</td>\n",
       "    </tr>\n",
       "    <tr>\n",
       "      <th>quality</th>\n",
       "      <td>1143.0</td>\n",
       "      <td>5.657043</td>\n",
       "      <td>0.805824</td>\n",
       "      <td>3.00000</td>\n",
       "      <td>5.00000</td>\n",
       "      <td>6.00000</td>\n",
       "      <td>6.000000</td>\n",
       "      <td>8.00000</td>\n",
       "    </tr>\n",
       "    <tr>\n",
       "      <th>Id</th>\n",
       "      <td>1143.0</td>\n",
       "      <td>804.969379</td>\n",
       "      <td>463.997116</td>\n",
       "      <td>0.00000</td>\n",
       "      <td>411.00000</td>\n",
       "      <td>794.00000</td>\n",
       "      <td>1209.500000</td>\n",
       "      <td>1597.00000</td>\n",
       "    </tr>\n",
       "  </tbody>\n",
       "</table>\n",
       "</div>"
      ],
      "text/plain": [
       "                       count        mean         std      min        25%  \\\n",
       "fixed acidity         1143.0    8.311111    1.747595  4.60000    7.10000   \n",
       "volatile acidity      1143.0    0.531339    0.179633  0.12000    0.39250   \n",
       "citric acid           1143.0    0.268364    0.196686  0.00000    0.09000   \n",
       "residual sugar        1143.0    2.532152    1.355917  0.90000    1.90000   \n",
       "chlorides             1143.0    0.086933    0.047267  0.01200    0.07000   \n",
       "free sulfur dioxide   1143.0   15.615486   10.250486  1.00000    7.00000   \n",
       "total sulfur dioxide  1143.0   45.914698   32.782130  6.00000   21.00000   \n",
       "density               1143.0    0.996730    0.001925  0.99007    0.99557   \n",
       "pH                    1143.0    3.311015    0.156664  2.74000    3.20500   \n",
       "sulphates             1143.0    0.657708    0.170399  0.33000    0.55000   \n",
       "alcohol               1143.0   10.442111    1.082196  8.40000    9.50000   \n",
       "quality               1143.0    5.657043    0.805824  3.00000    5.00000   \n",
       "Id                    1143.0  804.969379  463.997116  0.00000  411.00000   \n",
       "\n",
       "                            50%          75%         max  \n",
       "fixed acidity           7.90000     9.100000    15.90000  \n",
       "volatile acidity        0.52000     0.640000     1.58000  \n",
       "citric acid             0.25000     0.420000     1.00000  \n",
       "residual sugar          2.20000     2.600000    15.50000  \n",
       "chlorides               0.07900     0.090000     0.61100  \n",
       "free sulfur dioxide    13.00000    21.000000    68.00000  \n",
       "total sulfur dioxide   37.00000    61.000000   289.00000  \n",
       "density                 0.99668     0.997845     1.00369  \n",
       "pH                      3.31000     3.400000     4.01000  \n",
       "sulphates               0.62000     0.730000     2.00000  \n",
       "alcohol                10.20000    11.100000    14.90000  \n",
       "quality                 6.00000     6.000000     8.00000  \n",
       "Id                    794.00000  1209.500000  1597.00000  "
      ]
     },
     "execution_count": 4,
     "metadata": {},
     "output_type": "execute_result"
    }
   ],
   "source": [
    "df.describe().T"
   ]
  },
  {
   "cell_type": "markdown",
   "id": "8a3d4ab5",
   "metadata": {},
   "source": [
    "### EDA"
   ]
  },
  {
   "cell_type": "code",
   "execution_count": 5,
   "id": "86c0ace0",
   "metadata": {},
   "outputs": [
    {
     "data": {
      "text/plain": [
       "fixed acidity           0\n",
       "volatile acidity        0\n",
       "citric acid             0\n",
       "residual sugar          0\n",
       "chlorides               0\n",
       "free sulfur dioxide     0\n",
       "total sulfur dioxide    0\n",
       "density                 0\n",
       "pH                      0\n",
       "sulphates               0\n",
       "alcohol                 0\n",
       "quality                 0\n",
       "Id                      0\n",
       "dtype: int64"
      ]
     },
     "execution_count": 5,
     "metadata": {},
     "output_type": "execute_result"
    }
   ],
   "source": [
    "df.isnull().sum()"
   ]
  },
  {
   "cell_type": "code",
   "execution_count": 7,
   "id": "55f2cd8c",
   "metadata": {},
   "outputs": [],
   "source": [
    "df = df.drop('Id', axis=1)"
   ]
  },
  {
   "cell_type": "code",
   "execution_count": 8,
   "id": "ceb4c464",
   "metadata": {},
   "outputs": [
    {
     "data": {
      "image/png": "[encoded data removed]",
      "text/plain": [
       "<Figure size 720x720 with 12 Axes>"
      ]
     },
     "metadata": {
      "needs_background": "light"
     },
     "output_type": "display_data"
    }
   ],
   "source": [
    "df.hist(bins=20, figsize=(10, 10))\n",
    "plt.show()"
   ]
  },
  {
   "cell_type": "code",
   "execution_count": 9,
   "id": "e8265016",
   "metadata": {},
   "outputs": [
    {
     "data": {
      "image/png": "[encoded data removed]",
      "text/plain": [
       "<Figure size 432x288 with 1 Axes>"
      ]
     },
     "metadata": {
      "needs_background": "light"
     },
     "output_type": "display_data"
    }
   ],
   "source": [
    "plt.bar(df['quality'], df['alcohol'])\n",
    "plt.xlabel('quality')\n",
    "plt.ylabel('alcohol')\n",
    "plt.show()"
   ]
  },
  {
   "cell_type": "code",
   "execution_count": 10,
   "id": "d9bd8c61",
   "metadata": {},
   "outputs": [
    {
     "data": {
      "image/png": "[encoded data removed]",
      "text/plain": [
       "<Figure size 864x864 with 1 Axes>"
      ]
     },
     "metadata": {
      "needs_background": "light"
     },
     "output_type": "display_data"
    }
   ],
   "source": [
    "plt.figure(figsize=(12, 12))\n",
    "sb.heatmap(df.corr() > 0.7, annot=True, cbar=False)\n",
    "plt.show()"
   ]
  },
  {
   "cell_type": "markdown",
   "id": "67cc19b0",
   "metadata": {},
   "source": [
    "## Model Development"
   ]
  },
  {
   "cell_type": "code",
   "execution_count": 11,
   "id": "5119271e",
   "metadata": {},
   "outputs": [],
   "source": [
    "df['best quality'] = [1 if x > 5 else 0 for x in df.quality]"
   ]
  },
  {
   "cell_type": "code",
   "execution_count": 12,
   "id": "d8976818",
   "metadata": {},
   "outputs": [],
   "source": [
    "df.replace({'white': 1, 'red': 0}, inplace=True)"
   ]
  },
  {
   "cell_type": "code",
   "execution_count": 13,
   "id": "23b35725",
   "metadata": {},
   "outputs": [
    {
     "data": {
      "text/plain": [
       "((914, 11), (229, 11))"
      ]
     },
     "execution_count": 13,
     "metadata": {},
     "output_type": "execute_result"
    }
   ],
   "source": [
    "features = df.drop(['quality', 'best quality'], axis=1)\n",
    "target = df['best quality']\n",
    " \n",
    "xtrain, xtest, ytrain, ytest = train_test_split(\n",
    "    features, target, test_size=0.2, random_state=40)\n",
    " \n",
    "xtrain.shape, xtest.shape"
   ]
  },
  {
   "cell_type": "code",
   "execution_count": 14,
   "id": "c09efb01",
   "metadata": {},
   "outputs": [],
   "source": [
    "norm = MinMaxScaler()\n",
    "xtrain = norm.fit_transform(xtrain)\n",
    "xtest = norm.transform(xtest)"
   ]
  },
  {
   "cell_type": "code",
   "execution_count": 15,
   "id": "15f2b915",
   "metadata": {},
   "outputs": [
    {
     "name": "stdout",
     "output_type": "stream",
     "text": [
      "LogisticRegression() : \n",
      "Training Accuracy :  0.7593456032719836\n",
      "Validation Accuracy :  0.7485551390190567\n",
      "\n",
      "XGBClassifier(base_score=None, booster=None, callbacks=None,\n",
      "              colsample_bylevel=None, colsample_bynode=None,\n",
      "              colsample_bytree=None, early_stopping_rounds=None,\n",
      "              enable_categorical=False, eval_metric=None, feature_types=None,\n",
      "              gamma=None, gpu_id=None, grow_policy=None, importance_type=None,\n",
      "              interaction_constraints=None, learning_rate=None, max_bin=None,\n",
      "              max_cat_threshold=None, max_cat_to_onehot=None,\n",
      "              max_delta_step=None, max_depth=None, max_leaves=None,\n",
      "              min_child_weight=None, missing=nan, monotone_constraints=None,\n",
      "              n_estimators=100, n_jobs=None, num_parallel_tree=None,\n",
      "              predictor=None, random_state=None, ...) : \n",
      "Training Accuracy :  1.0\n",
      "Validation Accuracy :  0.7767494532958451\n",
      "\n",
      "SVC() : \n",
      "Training Accuracy :  0.7773439191627571\n",
      "Validation Accuracy :  0.7750702905342082\n",
      "\n"
     ]
    }
   ],
   "source": [
    "models = [LogisticRegression(), XGBClassifier(), SVC(kernel='rbf')]\n",
    " \n",
    "for i in range(3):\n",
    "    models[i].fit(xtrain, ytrain)\n",
    " \n",
    "    print(f'{models[i]} : ')\n",
    "    print('Training Accuracy : ', metrics.roc_auc_score(ytrain, models[i].predict(xtrain)))\n",
    "    print('Validation Accuracy : ', metrics.roc_auc_score(\n",
    "        ytest, models[i].predict(xtest)))\n",
    "    print()"
   ]
  },
  {
   "cell_type": "markdown",
   "id": "20cfcd25",
   "metadata": {},
   "source": [
    "Based on the accuracies shown above, we can conclude that the Logistic Regression and SVC() classifiers have performed well on the validation data, with minimal disparity between the validation and training data. It would be beneficial to visualize the performance of the Logistic Regression model on the validation data by plotting the corresponding confusion matrix."
   ]
  },
  {
   "cell_type": "code",
   "execution_count": 16,
   "id": "e2f19aed",
   "metadata": {},
   "outputs": [
    {
     "data": {
      "image/png": "[encoded data removed]",
      "text/plain": [
       "<Figure size 432x288 with 2 Axes>"
      ]
     },
     "metadata": {
      "needs_background": "light"
     },
     "output_type": "display_data"
    }
   ],
   "source": [
    "metrics.plot_confusion_matrix(models[1], xtest, ytest)\n",
    "plt.show()"
   ]
  },
  {
   "cell_type": "code",
   "execution_count": 17,
   "id": "c74b5195",
   "metadata": {},
   "outputs": [
    {
     "name": "stdout",
     "output_type": "stream",
     "text": [
      "              precision    recall  f1-score   support\n",
      "\n",
      "           0       0.72      0.77      0.75        97\n",
      "           1       0.82      0.78      0.80       132\n",
      "\n",
      "    accuracy                           0.78       229\n",
      "   macro avg       0.77      0.78      0.77       229\n",
      "weighted avg       0.78      0.78      0.78       229\n",
      "\n"
     ]
    }
   ],
   "source": [
    "print(metrics.classification_report(ytest,models[1].predict(xtest)))"
   ]
  },
  {
   "cell_type": "code",
   "execution_count": null,
   "id": "465072e7",
   "metadata": {},
   "outputs": [],
   "source": []
  }
 ],
 "metadata": {
  "kernelspec": {
   "display_name": "Python 3 (ipykernel)",
   "language": "python",
   "name": "python3"
  },
  "language_info": {
   "codemirror_mode": {
    "name": "ipython",
    "version": 3
   },
   "file_extension": ".py",
   "mimetype": "text/x-python",
   "name": "python",
   "nbconvert_exporter": "python",
   "pygments_lexer": "ipython3",
   "version": "3.9.12"
  }
 },
 "nbformat": 4,
 "nbformat_minor": 5
}
